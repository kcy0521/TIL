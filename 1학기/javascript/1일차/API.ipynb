{
 "cells": [
  {
   "cell_type": "markdown",
   "metadata": {},
   "source": [
    "## REST API\n",
    "\n",
    "#### HTTP  \n",
    "\n",
    "- 클라이언트- 서버 프로토콜 이라고도 부름\n",
    "- 클라이언트와 서버는 다음과 같은 개별적인 메시지 교환에 의해 통신\n",
    "    - 요청 : 클라이언트에 의해 전송되는 메세지\n",
    "    - 응답 : 서버에서 응답으로 전송되는 메세지\n",
    "\n",
    "- Stateless(무상태)  \n",
    "    - 동일한 연결에서 연속적으로 수행되는 두 요청 사이에 링크가 없음\n",
    "    - 응답을 마치고 연결을 끊는 순간 클라이언트와 서버 간의 통신이 끝나며 상태 정보가 유지되지 않음\n",
    "\n",
    "- HTTP Request Methods\n",
    "    - 리소스에 대한 행위(수행하고자 하는 동작)를 정의\n",
    "    - 예를 들면 ( GET, POST, PUT, DELETE ... )\n",
    "        - GET : 서버에 리소스 표현 요청, 데이터만 검색해야 함\n",
    "        - POST : 데이터를 지정된 리소스에 제출, 서버의 상태 변경\n",
    "        - PUT : 요청한 주소의 리소스를 수정\n",
    "        - DELETE : 지정된 리소스를 삭제\n",
    "\n",
    "#### URL\n",
    "네트워크 상에 리소스가 어디 있는지(주소)를 알려주기 위한 약속\n",
    "- Scheme(or protocol)\n",
    "    - 브라우저가 리소스를 요청하는 데 사용해야 하는 프로토콜\n",
    "- Authority\n",
    "    - Scheme 다음은 문자 패턴 ://으로 구분된 Authority(권한)이 작성됨\n",
    "    - Authority는 domain과 port를 모두 포함하며 둘은:(콜론)으로 구분됨\n",
    "    1. Domain Name\n",
    "        - 요청 중인 웹 서버를 나타냄\n",
    "        - 어떤 웹 서버가 요구되는 지를 가리키며 직접 IP주소를 사용하는 것도 가능\n",
    "        - 예를 들면 구글의 IP주소는 142.251.42.142\n",
    "    2. Port\n",
    "        - 웹 서버의 리소스에 접근하는데 사용되는 기술적인 문(Gate)\n",
    "        - Django의 경우 8000(80+00)이 기본 포트로 설정되어 있음\n",
    "- Path\n",
    "    - 웹 서버의 리소스 경로\n",
    "    - 오늘날은 실제 위치가 아닌 추상화된 형태의 구조를 표현\n",
    "    - 예를 들어 /articles/create/가 실제 articles 폴더안에 create 폴더안을 나타내는 것은 아님  \n",
    "- Parameters\n",
    "    - 웹 서버에 제공하는 추가적인 데이터\n",
    "    - 파라미터는 '&' 기호로 구분되는 key-value 쌍 목록\n",
    "    - 서버는 리소스를 응답하기 전에 이러한 파라미터를 사용하여 추가작업 수행가능\n",
    "\n",
    "- Anchor\n",
    "    - 리소스의 다른 부분에 대한 앵커\n",
    "    - 리소스 내부 일종의 '북마크'를 나타내며 브라우저에 해당 북마크 지점에 있는 콘텐츠를 표시\n",
    "    - 하이퍼 링크와 비슷한 기능을 하는 인터넷상의 다른 문서와 연결된 문자 혹은 그림\n",
    "\n",
    "30p"
   ]
  },
  {
   "cell_type": "markdown",
   "metadata": {},
   "source": [
    "## Response JSON"
   ]
  },
  {
   "cell_type": "markdown",
   "metadata": {},
   "source": [
    "## Django REST framework - Single Model"
   ]
  },
  {
   "cell_type": "markdown",
   "metadata": {},
   "source": [
    "## Django REST framework - N:1 Relation\n"
   ]
  }
 ],
 "metadata": {
  "kernelspec": {
   "display_name": "Python 3.9.9 64-bit",
   "language": "python",
   "name": "python3"
  },
  "language_info": {
   "name": "python",
   "version": "3.9.9"
  },
  "orig_nbformat": 4,
  "vscode": {
   "interpreter": {
    "hash": "58efd96955ad87a9e8dd9650e0a30367f19d72c00dcc232f780ebae26de1e801"
   }
  }
 },
 "nbformat": 4,
 "nbformat_minor": 2
}
