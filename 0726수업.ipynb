{
 "cells": [
  {
   "cell_type": "markdown",
   "metadata": {},
   "source": [
    "## ws 1. 평균 점수 구하기\n",
    "key 값으로 과목명, value값으로 점수를 가지는 딕셔너리를 전달받아서,  전체과목평균 점수 구하는\n",
    "함수를 작성하시오."
   ]
  },
  {
   "cell_type": "code",
   "execution_count": 5,
   "metadata": {},
   "outputs": [
    {
     "name": "stdout",
     "output_type": "stream",
     "text": [
      "85.5\n"
     ]
    }
   ],
   "source": [
    "def get_dict_avg(student): # student는 딕녀서너리고, 과목의 점수 정보가 키 - 값 쌍으로 주어진다.\n",
    "    scores = [] #딕셔너리 안의 점수만 가져와서 리스트에 저장\n",
    "\n",
    "    for score in student.values():\n",
    "        #딕셔너리 안의 값만 가져와서 리스트에 추가.\n",
    "        scores.append(score)\n",
    "\n",
    "    #평균을 계산해서 return\n",
    "    result = sum(scores) / len(student)\n",
    "\n",
    "    return result\n",
    "\n",
    "student = { \"python\" : 80, \"web\" : 83, \"algorithm\" : 90, \"django\" : 89} \n",
    "print(get_dict_avg(student))\n"
   ]
  },
  {
   "cell_type": "markdown",
   "metadata": {},
   "source": [
    "## ws 2. 혈액형 분류하기\n",
    "\n",
    "여러사람의 혈액형 정보 list 받아서, conunt_blood함수 만들어라"
   ]
  },
  {
   "cell_type": "code",
   "execution_count": null,
   "metadata": {},
   "outputs": [],
   "source": [
    "\n",
    "def count_blood(blood_type) : # blood_type = 파라미터, 혈액형 정보가 담긴 리스트\n",
    "    blood_dict = {} #우리가 만들어서 반환할 딕셔너리\n",
    "\n",
    "    for blood in blood_type : \n",
    "        #만약 딕셔너리 안에 혈액형이 있다면 (혈액형 키가 있다면)\n",
    "        if blood_dict.get(blood):\n",
    "            blood_dict[blood] += 1\n",
    "        #만약 딕셔너리 안에 혈액형이 없다면 (혈액형 키가 없다면)\n",
    "        else:\n",
    "            blood_dict[blood] = 1\n",
    "    return blood_dict\n",
    "    "
   ]
  },
  {
   "cell_type": "code",
   "execution_count": null,
   "metadata": {},
   "outputs": [],
   "source": [
    "# get() 두번째 인자를 사용해서 더 짧은 코드로 구현하기\n",
    "def count_blood(blood_type) :\n",
    "    blood_dict = {}\n",
    "\n",
    "    for blood in blood_types :\n",
    "        #get() 함수의 두번재 인자의 역할 : 첫번째 인자로 key를 제공하는데, 그 key 에 해당하는 \n",
    "        #value가 없을때, 기본값을 사용하도록 해줄 수 있다.\n",
    "        blood_dict[blood] = blood_dict.get(blood, 0) + 1\n",
    "        # 새로운 key 가 등록이 되면 value값을 0으로 놓고 시작한다는 말임\n",
    "\n",
    "    return blood_dict\n"
   ]
  },
  {
   "cell_type": "markdown",
   "metadata": {},
   "source": [
    "## hw 1. 모음은 몇 개나?"
   ]
  },
  {
   "cell_type": "code",
   "execution_count": 8,
   "metadata": {},
   "outputs": [
    {
     "name": "stdout",
     "output_type": "stream",
     "text": [
      "2\n"
     ]
    }
   ],
   "source": [
    "def count_vowels(word) : \n",
    "    #모음\n",
    "    vowels = \"aeiou\"\n",
    "    # 모음의 갯수를 저장할 변수\n",
    "    result = 0\n",
    "    #반복문을 통해서 word안에 모음이 몇새 있는지 알아내기\n",
    "\n",
    "    for vowel in vowels:\n",
    "        result += word.count(vowel) #워드 안에 모음이 몇새 있는지 센 다음 더해서 저장한다.\n",
    "    \n",
    "    return result\n",
    "\n",
    "print(count_vowels(\"apple\"))"
   ]
  },
  {
   "cell_type": "markdown",
   "metadata": {},
   "source": [
    "## hw 2. 문자열 조작\n",
    "\n",
    "find는 문자열에만 올림\n",
    ".replace(old, new[, count]) #카운트는 줘도 되고 안줘도댐 기본 인자가 존재\n"
   ]
  },
  {
   "cell_type": "markdown",
   "metadata": {},
   "source": [
    "## hw 3. 정사가각형 만들기"
   ]
  },
  {
   "cell_type": "code",
   "execution_count": null,
   "metadata": {},
   "outputs": [],
   "source": [
    "def only _ square_ara(widths,hihtg)\n",
    "\n",
    "square - wlswjd\n",
    "sgtra\n",
    "for wieth ==  wideth\n",
    "    for wieth = heigth\n",
    "    if width == height:\n",
    "        square_list.append(width*height)\n",
    "\n",
    "    return square_list"
   ]
  },
  {
   "cell_type": "markdown",
   "metadata": {},
   "source": [
    "### 복습 노트(매서드)\n",
    "\n",
    "-  .find(x) : x의 첫번째 위치를 반환한다. 없으면 -1을 반환한다.\n",
    "- .index(x) : x의 첫번째 위치를 반환한다. 없으면 오류를 반환한다.\n",
    "- .stareswith(x) : 문자열이 x로 시작하면 True, 아니면 False\n",
    "- .endswith(x) : 문자열이 x로 끝나면 True, 아니면 False\n",
    "\n",
    "-------\n",
    "\n",
    "- `.isalpha()` : 문자열이 (숫자가 아닌)글자로 이루어져 있는가?\n",
    "-  `.isspace()` : 문자열이 공백으로 이루어져 있는가?\n",
    "-  `.isupper()` : 문자열이 대문자로 이루어져 있는가?\n",
    "-  `.istitle()` : 문자열이 타이틀 형식으로 이루어져 있는가?\n",
    "-  `.islower()` : 문자열이 소문자로 이루어져 있는가?\n",
    "\n",
    "- `.isdecimal()`: 문자열이 0~9까지의 수로 이루어져 있는가?\n",
    "- `.isdigit()`: 문자열이 숫자로 이루어져 있는가?\n",
    "- `.isnumeric()`: 문자열을 수로 볼 수 있는가?\n",
    "\n",
    "------\n",
    "- .replace(old, new[, count]) : 바꿀 대상 글자를 새로운 글자로 바꿈, count지정하면 해당 갯수만큼시행 []표기는 해당 파라미터가 선택적임을 나타낸다.\n",
    "- .strip([chars]) : 특정한 문자들을 지정하면 문자열의 모든 ''조합''을 제거합니다. 인자가 없을 경우 공백을 제거합니다.( *조합을 제거한다는 말이 띄워쓰기를 포함시키면 하나하나 의 조합을 이루어 조합을 지운다.ex) \"d\", \"e\", \"g\" .. 이런걸로 만들 수 있는 모든 문자열을 지워버린다.)\n",
    "(.removesuffix : 뒤에서 지우기, .removeprefix :앞에서지우기 // 해당하는 단어만 제거)\n",
    "- .lstrip([chars]) : 특정한 문자들을 지정하면 문자열의 왼쪽으로 모든 조합을 제거합니다. 인자가 없을 경우 왼쪽 공백을 제거합니다.\n",
    "- .rstrip([chars]) : 특정한 문자들을 지정하면 문자열의 오른쪽으로 모든 조합을 제거합니다. 인자가 없을 경우 오른쪽 공백을 제거합니다.\n",
    "- `chars` 파라미터를 지정하지 않으면 공백을 제거합니다.\n",
    "\n",
    "---------\n",
    "''' 원본에 영향을 주진 않는다. '''\n",
    "\n",
    "- .split([chars]) : 문자열을 특정한 단위로 나누어 리스트로 반환. 공백기준으로 나누기 가능\n",
    "- 'separator'.join(iterable) : ex) '!',join(word)\n",
    "\n",
    "- `.capitalize()` : 앞글자를 대문자로 만들어 반환합니다.\n",
    "\n",
    "- `.title()` : 어포스트로피(*'*)나 공백 이후를 대문자로 만들어 반환합니다.\n",
    "\n",
    "- .upper() : 모두 대문자로 만든다.\n",
    "- .lower() : 모두 소문자로 만든다.\n",
    "- .swapcase() : 대<->소 스왑해서 보여준다.\n",
    "- --------"
   ]
  },
  {
   "cell_type": "markdown",
   "metadata": {},
   "source": [
    "### 리스트(List) 값 추가 및 삭제\n",
    "\n",
    "- .append(x) : 리스트에 값을 추가할 수 있습니다.`a[len(a):] = [x]` 와 동일합니다.\n",
    "- .extend(iterable) : 리스트에 iterable(list, range, tuple, string) 값을 붙일 수가 있습니다. `a[len(a):] = iterable` 와 동일, 리스타말고 문자열 넣으면 하나씩 쪼개져서 들어감.\n",
    "- .insert(i,x) : 정해진위치 i에 x를 추가 한다. i가 길이보다 길면 마지막에 들어감.\n",
    "- .remove(x) : 리스트에서 값이 x인 첫번째 항목을 삭제합니다. 없으면 에러\n",
    "- .pop([i]) : 정해진 위치 i에 있는 값을 삭제, i가 지정안되면 마지막항복삭제\n",
    "- .clear() : 모든 항목을 삭제\n",
    "\n",
    "- .index(x) : x위치를 반환한다.\n",
    "- .count(x) : 원하는 값의 개수를 반환합니다."
   ]
  },
  {
   "cell_type": "code",
   "execution_count": null,
   "metadata": {},
   "outputs": [],
   "source": [
    "# 원하는 값을 모두 삭제하려면 다음과 같이 할 수 있습니다.\n",
    "a = [1, 2, 1, 3, 4]\n",
    "target_value = 1\n",
    "for i in range(a.count(target_value)):\n",
    "    a.remove(target_value)\n",
    "print(a)"
   ]
  },
  {
   "cell_type": "markdown",
   "metadata": {},
   "source": [
    "- .sort() : 원본 list를 변형시키고, **None**을 리턴합니다. 파라미터로는 key와 reverse가 있다.\n",
    "- .reverse() : ''리스트'' 원소를 제자리에서 반대로 뒤집는다. 원본 순서를 수정합니다. 리스트 변형.파라미터로는 key와 reverse가 있다."
   ]
  },
  {
   "cell_type": "markdown",
   "metadata": {},
   "source": [
    "### 튜플(tuple)\n",
    "\n",
    "- .index(x[, start[, end]]) : x의 첫번쩨 위치 알려줌, 없으면 에러\n",
    "- .count(x) : 등장하는 횟수를 알려준다.\n",
    "\n",
    "### 순서가 없는 데이터 구조 - 셋(set)\n",
    "\n",
    "- .add(elem) : 셋에 추가한다.\n",
    "- .update(*others) : 여러 값을 추가합니다. 반드시 iterable 데이터 구조를 전달해야합니다.\n",
    "- .remove(elem) : elem 데이터를 삭제하고, 없으면 에러뜸\n",
    "- .discard(elem) : elem 데이터를 삭제하고, 없어도 에러 안뜸\n",
    "\n",
    "### 딕셔너리(Dictionary)\n",
    "\n",
    "- .get(key[, default]) : key 를 통해 value를 가져온다. 없으면 None을 반환, 오류발생 안함.default 값에 넣어주면 key 없을때 default 값이 반환된다.\n",
    "- .setdefault(key[, default]) : 겟과 비슷한 동작 디폴트 값을 추가한 리스트를 반환, 디폴트 없으면 None.\n",
    "- .pop(key[, default]) : key 제거한다. key 없으면 디폴트값을 돌려준다. 디폴트 없으면 에러\n",
    "- .update([other]) : other 가 제공하는 key,value 쌍으로 딕셔너리를 덮어씁니다.\n",
    "`other` 는 다른 딕셔너리나 key/value 쌍으로 되어있는 모든 iterable을 사용 가능합니다."
   ]
  },
  {
   "cell_type": "markdown",
   "metadata": {},
   "source": [
    "##  얕은 복사와 깊은 복사\n",
    "\n",
    "데이터 분류\n",
    "1) 변경 불가능한(imutable) 데이터\n",
    "   - 리터럴(숫자, 글자, 참/거짓)\n",
    "   - range()\n",
    "   - tuple()\n",
    "   - frozenset()\n",
    "2) 변경 가능한(mutable) 데이터\n",
    "   - list\n",
    "   - dict\n",
    "   - set\n",
    "\n",
    "얕은 복사\n",
    "1) slice 연산자 사용 [:]\n",
    "2) list() 사용 \n"
   ]
  }
 ],
 "metadata": {
  "kernelspec": {
   "display_name": "Python 3.9.13 64-bit",
   "language": "python",
   "name": "python3"
  },
  "language_info": {
   "codemirror_mode": {
    "name": "ipython",
    "version": 3
   },
   "file_extension": ".py",
   "mimetype": "text/x-python",
   "name": "python",
   "nbconvert_exporter": "python",
   "pygments_lexer": "ipython3",
   "version": "3.9.13"
  },
  "orig_nbformat": 4,
  "vscode": {
   "interpreter": {
    "hash": "3d3579b64ed644892bc49d0da2d1890659408e00eebf25200bc250e1696a02dd"
   }
  }
 },
 "nbformat": 4,
 "nbformat_minor": 2
}
