{
 "cells": [
  {
   "cell_type": "markdown",
   "metadata": {},
   "source": [
    "## DOM\n",
    "\n",
    "- 문서 객체 모델 \n",
    "- HTML 문서를 구조화 하여 각 요소를 객체로 취급\n",
    "- 문서를 논리 트리로 표현\n",
    "- dom메서드를 사용하면 프로그래밍적으로 트리에 접근가능하고 문서의 구조, 스타일, 컨텐츠를 변경할 수 있음.  \n",
    "- DOM은 웹 페이지의 객체 지향 표현이며, js와 같은 스크립트 언어를 이용해 수정가능\n",
    "-----------\n",
    "- 주요 객체 ( window, document)\n",
    "    - window : 가장 최상위 객체\n",
    "    - document : 브라우저가 불러온 웹 페이지\n",
    "        - 페이지 컨텐츠의 진입접 역할을 하며 body등과 같은 수많은 다른 요소들을 포함하고 있다.\n",
    "\n",
    "- document.querySelector(selector)\n",
    "    - 제공한 선택자와 일치하는 element 한개 선택\n",
    "    - 제공한 css selector를 만족하는 첫번째 element객체를 반환 (없으면 null)\n",
    "- document.querySelectorAll(selector)\n",
    "    - 제공한 선택자와 일치하는 여러 element를 선택\n",
    "\n",
    "- document.createElement(tagName)\n",
    "    - 작성한 tagName의 HTML 요소를 생성하여 반환\n",
    "- Node.innerText\n",
    "    - 해당 객체와 그 자손의 텍스트 컨텐츠를 표현\n",
    "- Node.appendChild()\n",
    "    - 한 Node를 특정 부모 Node의 자식 노드리스트중 마지막자식으로 삽입\n",
    "    - 한번에 오직 하나의 Node만 추가가능\n",
    "    - 추가된 Node객체를 반환\n",
    "    - 만약 주어진 Node가 이미 문서에 존재하는 다른 Node를 참조한다면 현재 위치에서 새로운 위치로 이동\n",
    "\n",
    "- Node.removeChild()\n",
    "    - DOM에서 자식 Node를 제거\n",
    "    - 제거된 Node를 반환\n",
    "- element.getAttribute(attributeName)\n",
    "    - 해당 요소의 지정된 값을 반환\n",
    "    - 인자는 값을 얻고자 하는 속성의 이름  \n",
    "#### 아 모르겠고 그냥 시발 34p 참고해라"
   ]
  },
  {
   "cell_type": "markdown",
   "metadata": {},
   "source": [
    "## Event! \n",
    "\n",
    "- addEventListener()라는 이벤트 처리기를 부착한다.\n",
    "- EventTarget.addEventListenner(type, Listener)  \n",
    "\"대상에 특정Event가 발생하면, 할일을 등록 하자\"\n",
    "\n",
    "```js\n",
    "const btn = document.querySelector('#btn')\n",
    "btn.addEventListener('click', function() {\n",
    "    countNumber += 1\n",
    "    const counter = document.querySelector('#counter')\n",
    "    counter.innertext = countNumber\n",
    "}) // 버튼을 클릭하면 특정 변수 값 변경하는 이벤트\n",
    "```\n",
    "\n",
    "### `49p 이후에 실습하는 놈들 있다. 이거 한번씩 봐라`\n",
    "\n",
    "- event.preventDefault()\n",
    "    - 현재 Event의 기본 동작을 중단\n",
    "    - HTML 요소의 기본 동작을 작동하지 않게 막음\n",
    "        - a태그 : 클릭시 특정주소로 이동\n",
    "        - form태그 : form 데이터 전송\n",
    "\n",
    "------\n",
    "### `60p 로또 버튼 랜덤 번호 출력 한번씩봐라`\n",
    "\n",
    "- loadsh : 유요한 유틸리티 : random 이런거 쓰게 해줌"
   ]
  },
  {
   "cell_type": "markdown",
   "metadata": {},
   "source": [
    "## this \n",
    "\n",
    "- 이거 쓸때 window가 되는지 상위 객체가 되는지 이거 구분할 수 있어야 한다.\n",
    "매우 유용하게 사용하는게 가능해짐.  "
   ]
  }
 ],
 "metadata": {
  "language_info": {
   "name": "python"
  },
  "orig_nbformat": 4
 },
 "nbformat": 4,
 "nbformat_minor": 2
}
