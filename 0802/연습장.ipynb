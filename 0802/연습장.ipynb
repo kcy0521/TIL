{
 "cells": [
  {
   "cell_type": "markdown",
   "metadata": {},
   "source": [
    "float 속성에 대해 알기 왼쪽에 붙이거나 오른쪽에 붙일때 사용"
   ]
  },
  {
   "cell_type": "markdown",
   "metadata": {},
   "source": [
    "kimg\n",
    "-파일위치 \n",
    "<div class = 'king'>"
   ]
  }
 ],
 "metadata": {
  "kernelspec": {
   "display_name": "Python 3.9.13 64-bit",
   "language": "python",
   "name": "python3"
  },
  "language_info": {
   "name": "python",
   "version": "3.9.13"
  },
  "orig_nbformat": 4,
  "vscode": {
   "interpreter": {
    "hash": "3d3579b64ed644892bc49d0da2d1890659408e00eebf25200bc250e1696a02dd"
   }
  }
 },
 "nbformat": 4,
 "nbformat_minor": 2
}
