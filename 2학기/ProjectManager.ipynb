{
 "cells": [
  {
   "attachments": {},
   "cell_type": "markdown",
   "metadata": {},
   "source": [
    "# 1. 프로젝트 개론\n",
    "\n",
    "고대 프로젝트 관리\n",
    "- 피라미드 : Human resource\n",
    "\n",
    "근대 프로젝트 관리\n",
    "- 대형 건설 프로젝트 : Schedule Management(CPM) : 일정을 지키는 것이 중요하다\n",
    "\n",
    "현대 프로젝트 관리\n",
    "- Space-X(일론머스크) : 나사 델타 대비 1/10 비용\n",
    "- 2020년 재사용 로켓 '펠컨9' 성공 1/100 비용\n",
    "- 2023 '스타쉽' 로켓(화성탐사)\n",
    "- 모험적인 도전과 동시에 효율적 관리를 추구 (Lean Management)\n",
    "\n",
    "프로젝트 관리 중요성\n",
    "- 현재\n",
    "    - operation 50 ~ 70 %\n",
    "    - Project 30 ~ 50 %\n",
    "- 미래 (AI 도입)\n",
    "    - operation 20 ~ 30 %\n",
    "    - Project 70 ~ 80 %\n",
    "\n",
    "IT 프로젝트 `복병` 다섯가지\n",
    "1. 추구하는 결과물이 과도하게 복잡하다\n",
    "2. 조직 전반에 걸쳐 합의가 부족하다\n",
    "3. 작업에 `우선순위`가 부여되지 않는다\n",
    "4. 프로젝트 `리소스(resource)` 부족\n",
    "5. 잠재적인 위험을 예상하지 못하고 있다\n",
    "\n",
    "프로젝트 정의\n",
    "- 한시적이다 : 시작일과 종료일이 명확하다\n",
    "- unique : 독특한 산출물  \n",
    "=> 오늘은 관리하는 방법을 살펴본다.  \n",
    "\n",
    "프로젝트 관리 정의 + 캡쳐 : 해야할 일에 대해 명확한 언급해야한다. \n",
    "- 고객 요구사항 : 범위관리(해야할일), 일정관리(7주), 원가관리(비용), 품질관리 => 미리계획\n",
    "- 스폰서 요구사항 : 통합관리, 이해관계자관리\n",
    "- 사용자 요구사항 : 인력관리, 의사소통관리, 위험관리, 조달관리(outsourcing)\n",
    "\n",
    "프로젝트 관리 특징\n",
    "프로젝트 관리 활동은 통합관리, 범위관리, 일정관리 등 10대 지식영역으로 정의하거나 시간의 흐름에 따라 프로세스 그룹으로 구분  \n",
    "착수(ground rule), 계획(해야할일, 하지말아야할일, 역할정의, 일정계획), 실행(코딩, UI/UX, Ucc), 통제(진척회의), 종료(최종보고)   \n",
    "\n",
    "\n",
    "\n"
   ]
  },
  {
   "attachments": {},
   "cell_type": "markdown",
   "metadata": {},
   "source": [
    "# 2. Content\n",
    "\n",
    "Project Basic Skills\n",
    "\n",
    "프로젝트 범위 관리  \n",
    "    모든 요구사항이 프로젝트 작업에 누락없이 포함되고, 해당 내용이 성공적으로 완료되돼록 명확히 하는 것\n",
    "\n",
    "Work Breakdown Structure(WBS) 정의\n",
    "- 프로젝트의 범위를 관리 가능한 수준까지 작업으로 분할한 것\n",
    "- 계획가능\n",
    "    - 일정과 원가를 추정 가능\n",
    "    - 역할과 책임을 정의 가능\n",
    "- 통제가능\n",
    "    - 계획 대비 실적을 비교 가능\n",
    "    - 명확한 시정조치 권고 가능\n",
    "\n",
    "WBS 분할 과정\n",
    "- Phase\n",
    "    프로젝트 관리 방법 선택 => 예측형, 반복형, 애자일\n",
    "- Scope\n",
    "    요구사항을 기반으로 범위기술서 작성\n",
    "- Deliberables\n",
    "    범위를 구성하는 인도물(결과물) 식별 (what to do 관점)\n",
    "- Activities\n",
    "    인도물을 만들기 위한 과정을 상세화(How to do 관점)\n",
    "- Tasks\n",
    "    세부 활동 목록(Optional)\n",
    "\n",
    "\n",
    "\n"
   ]
  }
 ],
 "metadata": {
  "kernelspec": {
   "display_name": "Python 3",
   "language": "python",
   "name": "python3"
  },
  "language_info": {
   "name": "python",
   "version": "3.9.13 (tags/v3.9.13:6de2ca5, May 17 2022, 16:36:42) [MSC v.1929 64 bit (AMD64)]"
  },
  "orig_nbformat": 4,
  "vscode": {
   "interpreter": {
    "hash": "3d3579b64ed644892bc49d0da2d1890659408e00eebf25200bc250e1696a02dd"
   }
  }
 },
 "nbformat": 4,
 "nbformat_minor": 2
}
