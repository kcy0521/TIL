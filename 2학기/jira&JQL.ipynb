{
 "cells": [
  {
   "attachments": {},
   "cell_type": "markdown",
   "metadata": {},
   "source": [
    "## Jira\n",
    "- issue Tracking\n",
    "    - 할일 관리, 이슈 관리\n",
    "\n",
    "- Project Management\n",
    "    - 팀장, Pm,의 역할이 있음\n",
    "    - 전체적인 프젝의 상황을 보기 위해 좋다. \n",
    "\n",
    "- Agile\n",
    "    - software개발을 이렇게 한다고 선언한거에서 비롯함\n",
    "    - SCRUM vs KANBAN 방법론\n",
    "\n",
    "- Scrum Meeting\n",
    "    - 백 로그 차트 \n",
    "\n",
    "- Create Issue\n",
    "    - Jira cloud 버전으로 사용할거 같다. \n",
    "    - 입력해야할게 생각보다 많음\n",
    "    - 이슈크리에이트 하면 프로젝트 만들수 있고 이슈 타입이 있는데 여기부터 헷갈림\n",
    "    지금 제공해주는것은 지라는 장점중하나 이것들 커스텀 가능하다 장점이고 기본환경에서 사용해 보도록하고 기본타입제공될거다 \n",
    "    - 처음에 Issue type -> Epic(큰틀) : 이슈를 연관시키는 용도 -> 이안에 할일을 집어 넣는 시스템\n",
    "    - components : 이거는 팀에서 정하기 나름, 생성하면 이름과 권한과 리더를 정하는게 가능 누가 기본적으로 담당자가 될건지 용도를 사용할때 \n",
    "    - attachment : 첨부파일 넣는게 가능\n",
    "    - 링크, 픽스버전, assignee(담당자) : 설정해줘야한다. \n",
    "    - label은 자유형식으로 만드는게 가능하다. \n",
    "    - story : 사용자의 행위에 대한 동작을 적어둠\n",
    "    - bug : 개발 이후의 버그\n",
    "    - task 에는 배포할 버전을 넣어주는게 좋다. \n",
    "    - Release: 원하는 버전 관리 배포, 이런거 적어두는 곳이다. \n",
    "\n",
    "## JQL\n",
    "Jira Query Language\n",
    "- issue 창에 jql/Basic 있는데 이걸로 검색선택가능\n",
    "- 유저관리 안에 task, story 넣어서 관리 한다. \n",
    "- 상대적인 날자로 구분해주는게 가능하다 예를들면 오늘기준 어제 -1d 내일은 1d로 표현 가능함 다음주는 1w\n",
    "- \n"
   ]
  }
 ],
 "metadata": {
  "language_info": {
   "name": "python"
  },
  "orig_nbformat": 4
 },
 "nbformat": 4,
 "nbformat_minor": 2
}
