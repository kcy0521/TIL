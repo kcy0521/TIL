{
 "cells": [
  {
   "attachments": {},
   "cell_type": "markdown",
   "metadata": {},
   "source": [
    "## 도커 쿠버네틱스\n",
    "\n",
    "개발 프로세스 v4\n",
    "- Developer (코드작성)\n",
    "- Git (Merge Request or Push)\n",
    "- CI (test, Build)\n",
    "- CD (Deploy)\n",
    "- server (Cloud)\n",
    "- Monitoring (Metrics)\n",
    "\n",
    "## DevOps 하면 떠오르는\n",
    "도커/쿠버네티스를 도입하면 더빨라지나요??  \n",
    "DevOps = 좋은 도구를 잘 사용하는 것? = 철학 & 방법론 => 문화 (우리팀이 자연스럽게 신경쓰는 것)  \n",
    "- DevOps를 하자\n",
    "    작은것부터 시작하자 , git = DevOps에서 중요한 역할  \n",
    "    \n",
    "-----------\n",
    "- 새로운 기술을 배우는 이유는 개발과 배포를 개선하기 위함\n",
    "- 새로운 도구를 도입했는데 개발과 배포가 개선되지 않는다면 재검토\n",
    "- 도입하는게 좋을지 안좋을지 알아보자\n",
    "\n",
    "PaaS, 도커, 쿠버네티스, 서비스메세지 = 서버의 상태를 관리하기 위한 노오오오력\n",
    "\n",
    "## 자체 서버 운영\n",
    "서버 주문 > 서버설치> cpu,메모리, 하드디스크 조립> 네트워크 연결> os설치 .........\n",
    "\n",
    "-----------\n",
    "### PaaS 단점  \n",
    "    \n",
    "    애플리케이션을 PaaS 방식에 맞게 작성해야함  \n",
    "    서버에 대한 원격 접속 시스템을 제공하지 않음  \n",
    "    서버어ㅔ파일 시스템을 사용할 수 없음  \n",
    "    서버 패키지를 설치할 수 없음  \n",
    "    로그 수집을 제한적인 방식으로 허용   \n",
    "    애플리케이션 배포에 대한 새로운 패러다임  \n",
    "\n",
    "    "
   ]
  },
  {
   "attachments": {},
   "cell_type": "markdown",
   "metadata": {},
   "source": [
    "# 도커의 등장\n",
    "### 도커가 등장하고 여러가지가 바뀜\n"
   ]
  },
  {
   "attachments": {},
   "cell_type": "markdown",
   "metadata": {},
   "source": [
    "https://roadmap.sh/devops\n",
    "데브옵스 정리 된거 로드맵임 ㅇㅇ\n"
   ]
  }
 ],
 "metadata": {
  "language_info": {
   "name": "python"
  },
  "orig_nbformat": 4
 },
 "nbformat": 4,
 "nbformat_minor": 2
}
