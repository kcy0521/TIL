{
 "cells": [
  {
   "cell_type": "markdown",
   "metadata": {},
   "source": [
    "## 소수 구하는 방법 (소수인지 확인하는 방법)"
   ]
  },
  {
   "cell_type": "code",
   "execution_count": 8,
   "metadata": {},
   "outputs": [
    {
     "name": "stdout",
     "output_type": "stream",
     "text": [
      "True\n"
     ]
    }
   ],
   "source": [
    "# 숫자 n이 소수이면 True 리턴, 소수가 아니면 False 를 리턴하도록\n",
    "# 소수인지 판별하는 방법은 1부터 n까지 나눴을때 약수가1또는 \n",
    "# 자기 자신밖에 없으면 소수. 그게 아니면 소수가 아니다.\n",
    "def is_prime(n):\n",
    "    \n",
    "    for i in range(1,n):\n",
    "        if n < 2:\n",
    "            True\n",
    "        if n % i == 0 :\n",
    "            return True\n",
    "        else:\n",
    "            return False\n",
    "\n",
    "print(is_prime(16))"
   ]
  }
 ],
 "metadata": {
  "kernelspec": {
   "display_name": "Python 3.9.13 64-bit",
   "language": "python",
   "name": "python3"
  },
  "language_info": {
   "codemirror_mode": {
    "name": "ipython",
    "version": 3
   },
   "file_extension": ".py",
   "mimetype": "text/x-python",
   "name": "python",
   "nbconvert_exporter": "python",
   "pygments_lexer": "ipython3",
   "version": "3.9.13"
  },
  "orig_nbformat": 4,
  "vscode": {
   "interpreter": {
    "hash": "3d3579b64ed644892bc49d0da2d1890659408e00eebf25200bc250e1696a02dd"
   }
  }
 },
 "nbformat": 4,
 "nbformat_minor": 2
}
