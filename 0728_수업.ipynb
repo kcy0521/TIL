{
 "cells": [
  {
   "cell_type": "markdown",
   "metadata": {},
   "source": [
    "## WS 1.pip install faker\n",
    "(0728)\n",
    "무엇을 하는 명령어 인가?  \n",
    "- faker 패키지를 설치하기 위해 실행하는 명령어\n",
    "\n",
    "실행 어디서??   \n",
    "- git bash\n",
    "- (cmd, 파워쉘에서도 가능)"
   ]
  },
  {
   "cell_type": "code",
   "execution_count": 1,
   "metadata": {},
   "outputs": [
    {
     "data": {
      "text/plain": [
       "'Mark Sawyer'"
      ]
     },
     "execution_count": 1,
     "metadata": {},
     "output_type": "execute_result"
    }
   ],
   "source": [
    "# Ws 2.\n",
    "from faker import Faker # Faker 클래스를 faker 패키지에서 불러오기 위한 코드\n",
    "\n",
    "fake = Faker() # Faker 클래의의 인스턴스 생성 :fake 는 Faker 클래스의 인스턴스이다.\n",
    "\n",
    "fake.name() # fake의 메서드 사용 : name() 은 fake의 매서드 이다."
   ]
  },
  {
   "cell_type": "code",
   "execution_count": null,
   "metadata": {},
   "outputs": [],
   "source": [
    "# WS 3.  \n",
    "fake = Faker('ko_KR') #한글이름 으로 나오게 해주는 거. 'ko_KR' 은 국가 코드이다.\n",
    "\n",
    "Class Faker():\n",
    "    def __init__(self, locale = \"en_US\"): #안적으면 기본값을 사용하겠다는 의미이다.  \n",
    "\n",
    "# (a) = init\n",
    "# (b) = self\n",
    "# (c) = locale = \"en_US\"\n",
    "\n",
    "fake = Faker('fr_FR')"
   ]
  },
  {
   "cell_type": "code",
   "execution_count": 2,
   "metadata": {},
   "outputs": [
    {
     "name": "stdout",
     "output_type": "stream",
     "text": [
      "이진호\n",
      "강은주\n"
     ]
    }
   ],
   "source": [
    "# WS 4. (1)\n",
    "from faker import Faker\n",
    "\n",
    "fake1 = Faker('ko_KR')\n",
    "Faker.seed(87654321) #시드를 사용해서 매서드를 사용. 클래스를 이용해서 사용함.(클래스 매서드가 됨.) \n",
    "# Faker 클래스 내부의 난수 생성 갑을 클래스 변수로 설정\n",
    "# 설정한 후 생성된 모든 인스턴스가 해당 클래스 변수를 공유\n",
    "print(fake1.name()) # 이진호\n",
    "\n",
    "fake2 = Faker('ko_KR')\n",
    "print(fake2.name()) # 강은주\n",
    "\n",
    "\n"
   ]
  },
  {
   "cell_type": "code",
   "execution_count": 4,
   "metadata": {},
   "outputs": [
    {
     "name": "stdout",
     "output_type": "stream",
     "text": [
      "이진호\n",
      "윤아름\n"
     ]
    }
   ],
   "source": [
    "# WS 4. (2) \n",
    "fake1 = Faker('ko_KR')\n",
    "fake1.seed_instance(87654321) #인스턴스 매서드! 인스턴스 매서드 시드로 설정\n",
    "\n",
    "print(fake1.name()) # 이진호\n",
    "\n",
    "fake2 = Faker('ko_KR')\n",
    "print(fake2.name()) # 김병철"
   ]
  },
  {
   "cell_type": "code",
   "execution_count": 14,
   "metadata": {},
   "outputs": [
    {
     "name": "stdout",
     "output_type": "stream",
     "text": [
      "['김지원', '이성호', '최동현', '서현준', '이지훈', '문병철', '김정수', '김우진', '박성진', '박우진', '남준혁']\n",
      "['최동현', '박성진', '김우진', '이지훈', '박우진']\n"
     ]
    }
   ],
   "source": [
    "from faker import Faker\n",
    "import random\n",
    "\n",
    "class PairProgramming:\n",
    "    #1. 인자로 학생들의 이름으로 이루어진 리스트를 받아서 인스턴스 변수에 할당한다.\n",
    "    def __init__(self, students): #students : 학생들의 리스트\n",
    "        self.students = students\n",
    "\n",
    "    def pick(self, n):\n",
    "        result = set() #결과로 반환할 랜덤으로 뽑은 학생 리스트 (중복 불가)\n",
    "        \n",
    "        # for i in range(n):\n",
    "        #     result.add(random.choice(self.students))\n",
    "        \n",
    "        while len(result) < n: # 내가 원하는 하생수가 될때까지 계속 세트에 뽑아서 넣기\n",
    "            result.add(random.choice(self.students)) #set의 중복 불가능 성질을 이용\n",
    "\n",
    "        return list(result)\n",
    "\n",
    "\n",
    "students = []\n",
    "\n",
    "#학생리스트 만들기\n",
    "fake = Faker(\"ko_KR\")\n",
    "\n",
    "for i in range(11):\n",
    "    students.append(fake.name())\n",
    "\n",
    "\n",
    "# print(students) \n",
    "\n",
    "pair1 = PairProgramming(students)\n",
    "print(pair1.students)\n",
    "\n",
    "print(pair1.pick(5))"
   ]
  },
  {
   "cell_type": "code",
   "execution_count": 18,
   "metadata": {},
   "outputs": [
    {
     "ename": "SyntaxError",
     "evalue": "invalid syntax (3021123873.py, line 18)",
     "output_type": "error",
     "traceback": [
      "\u001b[1;36m  Input \u001b[1;32mIn [18]\u001b[1;36m\u001b[0m\n\u001b[1;33m    while len(sefl,students)pick(2):\u001b[0m\n\u001b[1;37m                            ^\u001b[0m\n\u001b[1;31mSyntaxError\u001b[0m\u001b[1;31m:\u001b[0m invalid syntax\n"
     ]
    }
   ],
   "source": [
    "\n",
    "\n",
    "def match_pair(self):\n",
    "    result = [] #결과로 반환할 리스트\n",
    "    # 학생 리스트를 복사해서 (깊은 복사)\n",
    "    # 뽑아서 짝을 지어준 학색은 리스트에서 제거\n",
    "    #그다음에 다시 짝을 지어줄 학생을 뽑아서 페어링을 해주면 된다.\n",
    "    copy_students = copy.deepcopy(self.students)\n",
    "\n",
    "    if len(copy_students) < 2:\n",
    "        return None \n",
    "\n",
    "    if len(self.students) % 2 == 1:\n",
    "        random_pick = self.pick(3)\n",
    "        #뽑은 세명은 짝짓기 ㅗ안로해 \n",
    "        self.students.remove(students)\n",
    "\n",
    "    result.append(random_pick)\n",
    "\n",
    "    while len(sefl,students)pick(2):\n",
    "        for students in randon_pick:\n",
    "            self.students.remove(student)\n",
    "        result.append(random_pick)\n",
    "\n",
    "         \n",
    "        random_pick\n",
    "     \n",
    "    # 학생들의 수가 홀수인 경우 미리 3명을 뽑아서 조를 만들어준다. "
   ]
  },
  {
   "cell_type": "code",
   "execution_count": 3,
   "metadata": {},
   "outputs": [
    {
     "name": "stdout",
     "output_type": "stream",
     "text": [
      "4\n"
     ]
    }
   ],
   "source": [
    "# Ws 07_5\n",
    "\n",
    "def collatz(n): #콜라츠 추측 함수\n",
    "    count = 0 #연산을 며천 했는지 저장할 변수\n",
    "\n",
    "    #짝수면 2로 나누고 그 몫을 가져온다\n",
    "    #홀수면 3을 곱하고 1을 더한다\n",
    "\n",
    "    #위의 작업을 입력받은 n이 1이 될 때까지 반복, 대신 반복 횟수가 500 이상이면 종료\n",
    "    while n != 1 and count < 500:\n",
    "        #홀수\n",
    "        if n % 2 == 1:\n",
    "            n = n * 3 +1\n",
    "        # 짝수\n",
    "        else:\n",
    "            n //= 2\n",
    "        count += 1\n",
    "\n",
    "    #여기로 왔다면 n 이 1이 됬거나 아니면 반복횟수가 500 이거나\n",
    "    if count == 500:\n",
    "        count = -1\n",
    "\n",
    "    return count\n",
    "\n",
    "print(collatz(16))"
   ]
  },
  {
   "cell_type": "code",
   "execution_count": 34,
   "metadata": {},
   "outputs": [
    {
     "name": "stdout",
     "output_type": "stream",
     "text": [
      "[1, 2, 3, 4, 5, 6, 7]\n"
     ]
    }
   ],
   "source": [
    "import random\n",
    "# random.sample(range(1,46),6)\n",
    "\n",
    "num = [1,3,5,6,2,4,7]\n",
    "num.sort()\n",
    "print(num)\n",
    "    \n"
   ]
  },
  {
   "cell_type": "code",
   "execution_count": 51,
   "metadata": {},
   "outputs": [
    {
     "ename": "SyntaxError",
     "evalue": "invalid syntax (4125202948.py, line 6)",
     "output_type": "error",
     "traceback": [
      "\u001b[1;36m  Input \u001b[1;32mIn [51]\u001b[1;36m\u001b[0m\n\u001b[1;33m    with open(C:\\Users\\multicampus\\Desktop\\코드\\싸피0728\\python-master-01_python-practice-0727-01_lotto\\01_python\\practice\\0727\\01_lotto) as f:\u001b[0m\n\u001b[1;37m               ^\u001b[0m\n\u001b[1;31mSyntaxError\u001b[0m\u001b[1;31m:\u001b[0m invalid syntax\n"
     ]
    }
   ],
   "source": [
    "# chr(65)\n",
    "# ord('A')\n",
    "# print('sdfsdf' '\\\\ sdfds')\n",
    "\n",
    "import json\n",
    "    json_data = json.load(f)\n",
    "print(json.dumps(json_data))"
   ]
  }
 ],
 "metadata": {
  "kernelspec": {
   "display_name": "Python 3.9.13 64-bit",
   "language": "python",
   "name": "python3"
  },
  "language_info": {
   "codemirror_mode": {
    "name": "ipython",
    "version": 3
   },
   "file_extension": ".py",
   "mimetype": "text/x-python",
   "name": "python",
   "nbconvert_exporter": "python",
   "pygments_lexer": "ipython3",
   "version": "3.9.13"
  },
  "orig_nbformat": 4,
  "vscode": {
   "interpreter": {
    "hash": "3d3579b64ed644892bc49d0da2d1890659408e00eebf25200bc250e1696a02dd"
   }
  }
 },
 "nbformat": 4,
 "nbformat_minor": 2
}
