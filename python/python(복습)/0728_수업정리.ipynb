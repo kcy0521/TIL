{
 "cells": [
  {
   "cell_type": "markdown",
   "metadata": {},
   "source": [
    "## 에러(Error)\n",
    "\n",
    "SyntaxError\n",
    "1) invalid syntax : 콜론 오류\n",
    "2) EOL : 따옴표 오류\n",
    "3) EOF : 괄호 오류"
   ]
  },
  {
   "cell_type": "markdown",
   "metadata": {},
   "source": [
    "## 예외(Exception)\n",
    "ZeroDivisionError\n",
    "- 어떤수를 0으로 나눌때 발생\n",
    "\n",
    "NameError\n",
    "- name을 설정하지 않고 실행시키면 나오는오류\n",
    "\n",
    "TypeError\n",
    "- 1(int:숫자형) + '1'(str:문자형) 일때 오류가 나온다\n",
    "- round() : 반올림 해주는 함수 (문자형 들어가면 오류)\n",
    "- 매개변수 누락*****\n",
    "\n",
    "ValueError\n",
    "- int('3.5') : 자료형은 올바르나 값이 적적치 않음 , 3.5는 실수라 정수변환 안됨\n",
    "- 리스트 안에 값이 없을때 발생\n",
    "\n",
    "IndexError\n",
    "- 존재하지 않는 인덱스로 조회할때\n",
    "\n",
    "KeyError\n",
    "- 존재하지 않는 key 로 접근할때 ('song' 이라는 키가 없는데 접근할때 나옴)\n",
    "\n",
    "ModuleNotFoundError\n",
    "- 존재하지 않는 Module을 import 할때\n",
    "\n",
    "ImportError\n",
    "- 모듈은 있는데 존재하지 않는 클래스/함수를 가져올때 ex) from random import sampl <= 샘플은없는 함수임\n",
    "\n",
    "KeyboardInterrupt\n",
    "- 사용자가 임의로 실행으로 중단한 경우\n",
    "\n",
    "IndentationError\n",
    "- 들여쓰기가 적절하지 않은 경우"
   ]
  },
  {
   "cell_type": "markdown",
   "metadata": {},
   "source": [
    "# 예외 처리(Exception Handling)\n",
    "\n",
    "## **try & except**\n",
    "```python\n",
    "try:\n",
    "    <코드 블록 1>\n",
    "except (예외):\n",
    "    <코드 블록 2>\n",
    "\n",
    "이런 방법도 있음 예외 2개 적용시킬때\n",
    "try:\n",
    "    <코드 블록 1>\n",
    "except (예외 1, 예외 2):\n",
    "    <코드 블록 2>\n",
    "```\n",
    "\n",
    "* `try` 아래의 코드 블록(code block)이 실행됩니다.\n",
    "\n",
    "* 예외가 발생되지 않으면, **`except` 없이 실행이 종료됩니다.**\n",
    "\n",
    "* 예외가 발생하면, **남은 부분을 수행하지 않고**, `except`가 실행됩니다.\n",
    "\n",
    "## **else**\n",
    "```python\n",
    "try:\n",
    "    <코드 블럭 1>\n",
    "except 예외:\n",
    "    <코드 블럭 2>\n",
    "else:\n",
    "    <코드 블럭 3>\n",
    "```\n",
    "- 예외가 없으면 마지막에  실행됨.\n",
    "\n",
    "## **filanlly**\n",
    "```python\n",
    "try:\n",
    "    <코드 블럭 1>\n",
    "except 예외:\n",
    "    <코드 블럭 2>\n",
    "finally:\n",
    "    <코드 블럭 3>\n",
    "```\n",
    "- 예외가 있던 없던 마지막에 실행됨.\n"
   ]
  },
  {
   "cell_type": "markdown",
   "metadata": {},
   "source": [
    "# 에러 처리\n",
    "\n",
    "## as 사용해서 처리\n",
    "except KeyError as err:\n",
    "    print(f'{err}는 딕셔너리에 없는 키입니다.') 이런식\n",
    "## raise 사용\n",
    "raise ValueError('hi')\n",
    "ValueError: hi => 에러 메세지 뒤에 오는 멘트 내용을 바꾼다.\n",
    "## assert\n",
    "보통 **상태를 검증하는데 사용**되며 무조건 `AssertionError`가 발생합니다.  \n",
    "디버깅용도로 사용.  \n",
    "```bash\n",
    "$ python code.py\n",
    "Traceback (most recent call last):\n",
    "  File \"code.py\", line 1, in <module>\n",
    "    assert len([1, 2]) == 1, '길이가 1이 아닙니다.'\n",
    "AssertionError: 길이가 1이 아닙니다.\n",
    "\n",
    "$ python -O code.py\n",
    "\n",
    "```"
   ]
  }
 ],
 "metadata": {
  "kernelspec": {
   "display_name": "Python 3.9.13 64-bit",
   "language": "python",
   "name": "python3"
  },
  "language_info": {
   "name": "python",
   "version": "3.9.13"
  },
  "orig_nbformat": 4,
  "vscode": {
   "interpreter": {
    "hash": "3d3579b64ed644892bc49d0da2d1890659408e00eebf25200bc250e1696a02dd"
   }
  }
 },
 "nbformat": 4,
 "nbformat_minor": 2
}
