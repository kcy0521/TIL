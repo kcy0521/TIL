{
 "cells": [
  {
   "cell_type": "markdown",
   "metadata": {},
   "source": [
    "## 소수 구하는 방법 (소수인지 확인하는 방법)"
   ]
  },
  {
   "cell_type": "code",
   "execution_count": 11,
   "metadata": {},
   "outputs": [
    {
     "name": "stdout",
     "output_type": "stream",
     "text": [
      "True\n"
     ]
    }
   ],
   "source": [
    "# 숫자 n이 소수이면 True 리턴, 소수가 아니면 False 를 리턴하도록\n",
    "# 소수인지 판별하는 방법은 1부터 n까지 나눴을때 약수가1또는 \n",
    "# 자기 자신밖에 없으면 소수. 그게 아니면 소수가 아니다.\n",
    "def is_prime(n):\n",
    "    if n < 2:\n",
    "        True\n",
    "    for i in range(2,n):\n",
    "        if n % i == 0 :\n",
    "            return True\n",
    "        else:\n",
    "            return False\n",
    "\n",
    "print(is_prime(16))"
   ]
  },
  {
   "cell_type": "markdown",
   "metadata": {},
   "source": [
    "## 에라토스테네스의 체\n",
    "수학자 에라토스테네스가 고안한 방법.  \n",
    "마치 체로 치듯이 수를 걸러낸다고해서 붙여진 이름이다."
   ]
  },
  {
   "cell_type": "code",
   "execution_count": 15,
   "metadata": {},
   "outputs": [
    {
     "name": "stdout",
     "output_type": "stream",
     "text": [
      "[2, 3, 5, 7, 11, 13, 17, 19, 23, 29, 31, 37, 41, 43, 47, 53, 59, 61, 67, 71, 73, 79, 83, 89, 97]\n"
     ]
    }
   ],
   "source": [
    "def get_prime(n):\n",
    "    arr = [True] * (n+1)\n",
    "\n",
    "    m = int((n+1**0.5)) #n 까지 검사가 아니라 제곱근 까지만 검사해도 된다.\n",
    "    for i in range(2, n):\n",
    "        if arr[i]: #만약 i 번째 수가 소수다\n",
    "            for j in range(i+i, n+1, i):\n",
    "                arr[j] = False\n",
    "\n",
    "    return [i for i in range(2, n+1) if arr[i] == True]\n",
    "\n",
    "print(get_prime(100))"
   ]
  },
  {
   "cell_type": "markdown",
   "metadata": {},
   "source": [
    "n 까지 다 검사하지 않고, n의 제곱근 까지만 검사해서 최적화\n",
    "\n",
    "제곱근을 쓰는 이유 ??\n",
    "- n = a*b로 나타낼 수 있다. n` 를 n의 제곱근 이라고 하자.\n",
    "- n = n` * n` 여기서 a >= n` 일때, a*b=n=`*n` b <= n`\n",
    "- n` 까지만 검사를 하면 두 수 ab중에 작은수 b까지마 ㄴ체크해 봐도 (a는 검사를 안해도 )소수인지 아닌지 판별이 가능하다.\n",
    "\n",
    "16 => 1, 2, 4, 8, 16"
   ]
  }
 ],
 "metadata": {
  "kernelspec": {
   "display_name": "Python 3.9.13 64-bit",
   "language": "python",
   "name": "python3"
  },
  "language_info": {
   "codemirror_mode": {
    "name": "ipython",
    "version": 3
   },
   "file_extension": ".py",
   "mimetype": "text/x-python",
   "name": "python",
   "nbconvert_exporter": "python",
   "pygments_lexer": "ipython3",
   "version": "3.9.13"
  },
  "orig_nbformat": 4,
  "vscode": {
   "interpreter": {
    "hash": "3d3579b64ed644892bc49d0da2d1890659408e00eebf25200bc250e1696a02dd"
   }
  }
 },
 "nbformat": 4,
 "nbformat_minor": 2
}
